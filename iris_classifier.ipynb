{
 "cells": [
  {
   "cell_type": "code",
   "execution_count": 1,
   "id": "8e33c38e-ce19-490c-b954-2a34edf4eae1",
   "metadata": {
    "colab": {
     "base_uri": "https://localhost:8080/"
    },
    "id": "8e33c38e-ce19-490c-b954-2a34edf4eae1",
    "outputId": "f274bda5-73b6-4683-b24a-5e86092b206f"
   },
   "outputs": [
    {
     "name": "stdout",
     "output_type": "stream",
     "text": [
      "Requirement already satisfied: pandas in ./mario/lib/python3.10/site-packages (2.2.3)\n",
      "Requirement already satisfied: scikit-learn in ./mario/lib/python3.10/site-packages (1.6.1)\n",
      "Requirement already satisfied: numpy>=1.22.4 in ./mario/lib/python3.10/site-packages (from pandas) (2.2.3)\n",
      "Requirement already satisfied: python-dateutil>=2.8.2 in ./mario/lib/python3.10/site-packages (from pandas) (2.9.0.post0)\n",
      "Requirement already satisfied: pytz>=2020.1 in ./mario/lib/python3.10/site-packages (from pandas) (2025.1)\n",
      "Requirement already satisfied: tzdata>=2022.7 in ./mario/lib/python3.10/site-packages (from pandas) (2025.1)\n",
      "Requirement already satisfied: scipy>=1.6.0 in ./mario/lib/python3.10/site-packages (from scikit-learn) (1.15.2)\n",
      "Requirement already satisfied: joblib>=1.2.0 in ./mario/lib/python3.10/site-packages (from scikit-learn) (1.4.2)\n",
      "Requirement already satisfied: threadpoolctl>=3.1.0 in ./mario/lib/python3.10/site-packages (from scikit-learn) (3.5.0)\n",
      "Requirement already satisfied: six>=1.5 in ./mario/lib/python3.10/site-packages (from python-dateutil>=2.8.2->pandas) (1.17.0)\n"
     ]
    }
   ],
   "source": [
    "!pip install pandas scikit-learn"
   ]
  },
  {
   "cell_type": "code",
   "execution_count": 2,
   "id": "8a483af7-cb6b-4826-af1e-b2815c23b4e5",
   "metadata": {
    "colab": {
     "base_uri": "https://localhost:8080/"
    },
    "id": "8a483af7-cb6b-4826-af1e-b2815c23b4e5",
    "outputId": "5521169d-dbba-4a25-b374-f512b6aa81d6"
   },
   "outputs": [
    {
     "name": "stdout",
     "output_type": "stream",
     "text": [
      "Requirement already satisfied: matplotlib in ./mario/lib/python3.10/site-packages (3.10.1)\n",
      "Requirement already satisfied: contourpy>=1.0.1 in ./mario/lib/python3.10/site-packages (from matplotlib) (1.3.1)\n",
      "Requirement already satisfied: cycler>=0.10 in ./mario/lib/python3.10/site-packages (from matplotlib) (0.12.1)\n",
      "Requirement already satisfied: fonttools>=4.22.0 in ./mario/lib/python3.10/site-packages (from matplotlib) (4.56.0)\n",
      "Requirement already satisfied: kiwisolver>=1.3.1 in ./mario/lib/python3.10/site-packages (from matplotlib) (1.4.8)\n",
      "Requirement already satisfied: numpy>=1.23 in ./mario/lib/python3.10/site-packages (from matplotlib) (2.2.3)\n",
      "Requirement already satisfied: packaging>=20.0 in ./mario/lib/python3.10/site-packages (from matplotlib) (24.2)\n",
      "Requirement already satisfied: pillow>=8 in ./mario/lib/python3.10/site-packages (from matplotlib) (11.1.0)\n",
      "Requirement already satisfied: pyparsing>=2.3.1 in ./mario/lib/python3.10/site-packages (from matplotlib) (3.2.1)\n",
      "Requirement already satisfied: python-dateutil>=2.7 in ./mario/lib/python3.10/site-packages (from matplotlib) (2.9.0.post0)\n",
      "Requirement already satisfied: six>=1.5 in ./mario/lib/python3.10/site-packages (from python-dateutil>=2.7->matplotlib) (1.17.0)\n"
     ]
    }
   ],
   "source": [
    "!pip install matplotlib"
   ]
  },
  {
   "cell_type": "code",
   "execution_count": 3,
   "id": "cde27ccf-8620-44e1-80c6-d9abbdb9d3e8",
   "metadata": {
    "id": "cde27ccf-8620-44e1-80c6-d9abbdb9d3e8"
   },
   "outputs": [],
   "source": [
    "import tkinter as tk\n",
    "from tkinter import messagebox, ttk\n",
    "from matplotlib.backends.backend_tkagg import FigureCanvasTkAgg\n",
    "from sklearn.ensemble import RandomForestClassifier\n",
    "from sklearn.metrics import accuracy_score, confusion_matrix, ConfusionMatrixDisplay\n",
    "from sklearn.model_selection import train_test_split\n",
    "from sklearn.datasets import load_iris\n",
    "import pandas as pd\n",
    "import matplotlib.pyplot as plt"
   ]
  },
  {
   "cell_type": "code",
   "execution_count": 4,
   "id": "cc47c7fa-e557-4455-851d-82e0bf72c723",
   "metadata": {
    "id": "cc47c7fa-e557-4455-851d-82e0bf72c723"
   },
   "outputs": [],
   "source": [
    "data=load_iris()"
   ]
  },
  {
   "cell_type": "code",
   "execution_count": 5,
   "id": "6a793a0c-97dd-475e-af30-47b401571b15",
   "metadata": {
    "id": "6a793a0c-97dd-475e-af30-47b401571b15"
   },
   "outputs": [],
   "source": [
    "df=pd.DataFrame(data.data,columns=data.feature_names)\n",
    "df[\"species\"] = data.target"
   ]
  },
  {
   "cell_type": "code",
   "execution_count": 6,
   "id": "c1443c0c-9c3a-4f2f-808a-9b3cb471fee1",
   "metadata": {
    "colab": {
     "base_uri": "https://localhost:8080/"
    },
    "id": "c1443c0c-9c3a-4f2f-808a-9b3cb471fee1",
    "outputId": "9432f4c7-7b7e-4467-c4e5-cdb0ff0419a3"
   },
   "outputs": [
    {
     "name": "stdout",
     "output_type": "stream",
     "text": [
      "   sepal length (cm)  sepal width (cm)  petal length (cm)  petal width (cm)  \\\n",
      "0                5.1               3.5                1.4               0.2   \n",
      "1                4.9               3.0                1.4               0.2   \n",
      "2                4.7               3.2                1.3               0.2   \n",
      "3                4.6               3.1                1.5               0.2   \n",
      "4                5.0               3.6                1.4               0.2   \n",
      "\n",
      "   species  \n",
      "0        0  \n",
      "1        0  \n",
      "2        0  \n",
      "3        0  \n",
      "4        0  \n"
     ]
    }
   ],
   "source": [
    "print(df.head(5))\n",
    "x=df[data.feature_names]\n",
    "y=df[\"species\"]"
   ]
  },
  {
   "cell_type": "code",
   "execution_count": 7,
   "id": "9f732149-aafd-4de9-9f8a-0a52e2ae2e62",
   "metadata": {
    "colab": {
     "base_uri": "https://localhost:8080/",
     "height": 210
    },
    "id": "9f732149-aafd-4de9-9f8a-0a52e2ae2e62",
    "outputId": "a39a8b07-5746-4be6-8bad-94b0fa204b98"
   },
   "outputs": [
    {
     "data": {
      "text/plain": [
       "species\n",
       "0    0.333333\n",
       "1    0.333333\n",
       "2    0.333333\n",
       "Name: count, dtype: float64"
      ]
     },
     "execution_count": 7,
     "metadata": {},
     "output_type": "execute_result"
    }
   ],
   "source": [
    "df[\"species\"].value_counts()/float(len(df))"
   ]
  },
  {
   "cell_type": "code",
   "execution_count": 8,
   "id": "5997c37e-ba1d-4452-bc8e-c3fc4c7f1aaa",
   "metadata": {
    "id": "5997c37e-ba1d-4452-bc8e-c3fc4c7f1aaa"
   },
   "outputs": [],
   "source": [
    "train_x,val_x,train_y,val_y=train_test_split(x,y,test_size=0.3,random_state=2)"
   ]
  },
  {
   "cell_type": "code",
   "execution_count": 9,
   "id": "08bb61ae-163f-4ba8-bf67-77bc234a101b",
   "metadata": {
    "scrolled": true
   },
   "outputs": [],
   "source": [
    "root = tk.Tk()\n",
    "root.title(\"Iris Classification App\")\n",
    "root.geometry(\"900x800\")\n",
    "\n",
    "plot_frame = tk.Frame(root)\n",
    "plot_frame.pack(pady=20)"
   ]
  },
  {
   "cell_type": "code",
   "execution_count": 10,
   "id": "a93307e4-8690-4e0c-9d87-43e920f909b1",
   "metadata": {
    "id": "a93307e4-8690-4e0c-9d87-43e920f909b1"
   },
   "outputs": [
    {
     "data": {
      "image/png": "[encoded data removed]",
      "text/plain": [
       "<Figure size 800x760 with 1 Axes>"
      ]
     },
     "metadata": {},
     "output_type": "display_data"
    },
    {
     "data": {
      "image/png": "[encoded data removed]",
      "text/plain": [
       "<Figure size 20x600 with 1 Axes>"
      ]
     },
     "metadata": {},
     "output_type": "display_data"
    }
   ],
   "source": [
    "def run_model():\n",
    "    # Train the model\n",
    "    model = RandomForestClassifier(n_estimators=100, random_state=2)\n",
    "    model.fit(train_x, train_y)\n",
    "    prediction = model.predict(val_x)\n",
    "\n",
    "    # Calculate accuracy\n",
    "    accuracy = accuracy_score(prediction, val_y) * 100\n",
    "    rounded_acc = round(accuracy, 2)\n",
    "\n",
    "    # Show accuracy in a pop-up message\n",
    "    messagebox.showinfo(\"Model Accuracy\", f\"Accuracy: {rounded_acc}%\")\n",
    "\n",
    "    # Clear previous plots\n",
    "    for widget in plot_frame.winfo_children():\n",
    "        widget.destroy()\n",
    "\n",
    "    # Confusion Matrix Plot\n",
    "    cm = confusion_matrix(prediction, val_y)\n",
    "    fig, ax = plt.subplots(figsize=(8, 8))\n",
    "    disp = ConfusionMatrixDisplay(confusion_matrix=cm, display_labels=data.target_names)\n",
    "    disp.plot(cmap='Blues', ax=ax, colorbar=False)\n",
    "    \n",
    "    # Embed Confusion Matrix into Tkinter\n",
    "    canvas1 = FigureCanvasTkAgg(fig, master=plot_frame)\n",
    "    canvas1.draw()\n",
    "    canvas1.get_tk_widget().pack(side=tk.LEFT, padx=20)\n",
    "\n",
    "    # Feature Importance Plot\n",
    "    fig2, ax2 = plt.subplots(figsize=(10, 6))\n",
    "    ax2.barh(data.feature_names, model.feature_importances_, color='skyblue')\n",
    "    ax2.set_xlabel('Feature Importance')\n",
    "    ax2.set_title('Feature Importance in RF Model')\n",
    "\n",
    "    # Embed Feature Importance Plot into Tkinter\n",
    "    canvas2 = FigureCanvasTkAgg(fig2, master=plot_frame)\n",
    "    canvas2.draw()\n",
    "    canvas2.get_tk_widget().pack(side=tk.RIGHT, padx=20)\n",
    "\n",
    "# Button to trigger model execution\n",
    "run_button = tk.Button(root, text=\"Run Model\", command=run_model, font=(\"Arial\", 14), bg=\"blue\", fg=\"white\")\n",
    "run_button.pack(pady=20)\n",
    "\n",
    "# Run GUI loop\n",
    "root.mainloop()"
   ]
  },
  {
   "cell_type": "code",
   "execution_count": 12,
   "id": "4d2b0396-6e64-4874-9f2f-fdc946418c2b",
   "metadata": {
    "colab": {
     "base_uri": "https://localhost:8080/"
    },
    "id": "4d2b0396-6e64-4874-9f2f-fdc946418c2b",
    "outputId": "17eb34cd-63b5-4ad2-fa4a-cea2f99228e7"
   },
   "outputs": [
    {
     "data": {
      "text/plain": [
       "'num=accuracy_score(prediction,val_y)*100\\nrounded_num = round(num, 2)\\nprint(f\"\\n\\nAccuracy: {rounded_num}%\")\\nprint(f\"\\n\\nConfusion Matrix :\\n{confusion_matrix(prediction,val_y)}\")\\ncm=confusion_matrix(prediction,val_y)\\nprint(\"\\n\\nclassification_report\")\\nprint(\"\\n\",classification_report(val_y,prediction))'"
      ]
     },
     "execution_count": 12,
     "metadata": {},
     "output_type": "execute_result"
    }
   ],
   "source": [
    "'''num=accuracy_score(prediction,val_y)*100\n",
    "rounded_num = round(num, 2)\n",
    "print(f\"\\n\\nAccuracy: {rounded_num}%\")\n",
    "print(f\"\\n\\nConfusion Matrix :\\n{confusion_matrix(prediction,val_y)}\")\n",
    "cm=confusion_matrix(prediction,val_y)\n",
    "print(\"\\n\\nclassification_report\")\n",
    "print(\"\\n\",classification_report(val_y,prediction))'''"
   ]
  },
  {
   "cell_type": "code",
   "execution_count": 14,
   "id": "dcc61bea-2fc3-40f6-86e2-db2e804fee14",
   "metadata": {
    "colab": {
     "base_uri": "https://localhost:8080/",
     "height": 449
    },
    "id": "dcc61bea-2fc3-40f6-86e2-db2e804fee14",
    "outputId": "18b61bb5-c260-421c-b730-af4e1fc6c4b1"
   },
   "outputs": [
    {
     "data": {
      "text/plain": [
       "\"disp = ConfusionMatrixDisplay(confusion_matrix=cm, display_labels=data.target_names)\\ndisp.plot(cmap='Blues')\\nplt.show()\""
      ]
     },
     "execution_count": 14,
     "metadata": {},
     "output_type": "execute_result"
    }
   ],
   "source": [
    "'''disp = ConfusionMatrixDisplay(confusion_matrix=cm, display_labels=data.target_names)\n",
    "disp.plot(cmap='Blues')\n",
    "plt.show()'''"
   ]
  },
  {
   "cell_type": "code",
   "execution_count": 16,
   "id": "c3b1ac37-9b4e-4f47-84eb-2533fb7b5720",
   "metadata": {
    "colab": {
     "base_uri": "https://localhost:8080/",
     "height": 543
    },
    "id": "c3b1ac37-9b4e-4f47-84eb-2533fb7b5720",
    "outputId": "e445d7a6-eef7-4a45-dce0-f2e1307606df"
   },
   "outputs": [
    {
     "data": {
      "text/plain": [
       "\"plt.figure(figsize=(10, 6))\\nplt.barh(data.feature_names, model.feature_importances_)\\nplt.xlabel('Features')\\nplt.ylabel('Importance')\\nplt.title('Feature Importance in Random Forest Model')\\nplt.show()\""
      ]
     },
     "execution_count": 16,
     "metadata": {},
     "output_type": "execute_result"
    }
   ],
   "source": [
    "'''plt.figure(figsize=(10, 6))\n",
    "plt.barh(data.feature_names, model.feature_importances_)\n",
    "plt.xlabel('Features')\n",
    "plt.ylabel('Importance')\n",
    "plt.title('Feature Importance in Random Forest Model')\n",
    "plt.show()'''"
   ]
  },
  {
   "cell_type": "code",
   "execution_count": 17,
   "id": "_3pzUVCOqj1L",
   "metadata": {
    "colab": {
     "base_uri": "https://localhost:8080/"
    },
    "id": "_3pzUVCOqj1L",
    "outputId": "93b7f265-cbd6-4d07-e094-7e54c9c12858"
   },
   "outputs": [
    {
     "name": "stdout",
     "output_type": "stream",
     "text": [
      "Requirement already satisfied: pyinstaller in ./mario/lib/python3.10/site-packages (6.12.0)\n",
      "Requirement already satisfied: setuptools>=42.0.0 in ./mario/lib/python3.10/site-packages (from pyinstaller) (69.2.0)\n",
      "Requirement already satisfied: altgraph in ./mario/lib/python3.10/site-packages (from pyinstaller) (0.17.4)\n",
      "Requirement already satisfied: pyinstaller-hooks-contrib>=2025.1 in ./mario/lib/python3.10/site-packages (from pyinstaller) (2025.1)\n",
      "Requirement already satisfied: packaging>=22.0 in ./mario/lib/python3.10/site-packages (from pyinstaller) (24.2)\n"
     ]
    }
   ],
   "source": [
    "!pip install pyinstaller\n"
   ]
  },
  {
   "cell_type": "code",
   "execution_count": 18,
   "id": "aQNz1-Nl3cDj",
   "metadata": {
    "id": "aQNz1-Nl3cDj"
   },
   "outputs": [
    {
     "name": "stdout",
     "output_type": "stream",
     "text": [
      "[NbConvertApp] Converting notebook iris_classifier.ipynb to script\n",
      "[NbConvertApp] Writing 3779 bytes to iris_classifier.py\n"
     ]
    }
   ],
   "source": [
    "!jupyter nbconvert --to script iris_classifier.ipynb\n"
   ]
  },
  {
   "cell_type": "code",
   "execution_count": 19,
   "id": "662ffc75-2d8c-4f23-8d82-27843925a931",
   "metadata": {},
   "outputs": [
    {
     "name": "stdout",
     "output_type": "stream",
     "text": [
      "134 INFO: PyInstaller: 6.12.0, contrib hooks: 2025.1\n",
      "135 INFO: Python: 3.10.16\n",
      "136 INFO: Platform: Linux-6.13.5-200.fc41.x86_64-x86_64-with-glibc2.40\n",
      "136 INFO: Python environment: /home/edwardeughenetimothy/Projects_RL/MarioRL/mario\n",
      "137 INFO: wrote /home/edwardeughenetimothy/Projects_RL/MarioRL/iris_classifier.spec\n",
      "138 INFO: Module search paths (PYTHONPATH):\n",
      "['/usr/lib64/python310.zip',\n",
      " '/usr/lib64/python3.10',\n",
      " '/usr/lib64/python3.10/lib-dynload',\n",
      " '/home/edwardeughenetimothy/Projects_RL/MarioRL/mario/lib64/python3.10/site-packages',\n",
      " '/home/edwardeughenetimothy/Projects_RL/MarioRL/mario/lib/python3.10/site-packages',\n",
      " '/home/edwardeughenetimothy/Projects_RL/MarioRL']\n",
      "439 INFO: checking Analysis\n",
      "514 INFO: Building because /home/edwardeughenetimothy/Projects_RL/MarioRL/iris_classifier.py changed\n",
      "514 INFO: Running Analysis Analysis-00.toc\n",
      "514 INFO: Target bytecode optimization level: 0\n",
      "514 INFO: Initializing module dependency graph...\n",
      "514 INFO: Initializing module graph hook caches...\n",
      "522 INFO: Analyzing modules for base_library.zip ...\n",
      "1074 INFO: Processing standard module hook 'hook-heapq.py' from '/home/edwardeughenetimothy/Projects_RL/MarioRL/mario/lib64/python3.10/site-packages/PyInstaller/hooks'\n",
      "1142 INFO: Processing standard module hook 'hook-encodings.py' from '/home/edwardeughenetimothy/Projects_RL/MarioRL/mario/lib64/python3.10/site-packages/PyInstaller/hooks'\n",
      "2527 INFO: Processing standard module hook 'hook-pickle.py' from '/home/edwardeughenetimothy/Projects_RL/MarioRL/mario/lib64/python3.10/site-packages/PyInstaller/hooks'\n",
      "3553 INFO: Caching module dependency graph...\n",
      "3598 INFO: Looking for Python shared library...\n",
      "3607 INFO: Using Python shared library: /lib64/libpython3.10.so.1.0\n",
      "3608 INFO: Analyzing /home/edwardeughenetimothy/Projects_RL/MarioRL/iris_classifier.py\n",
      "3612 INFO: Processing pre-find-module-path hook 'hook-tkinter.py' from '/home/edwardeughenetimothy/Projects_RL/MarioRL/mario/lib64/python3.10/site-packages/PyInstaller/hooks/pre_find_module_path'\n",
      "3612 INFO: TclTkInfo: initializing cached Tcl/Tk info...\n",
      "3781 INFO: Processing standard module hook 'hook-_tkinter.py' from '/home/edwardeughenetimothy/Projects_RL/MarioRL/mario/lib64/python3.10/site-packages/PyInstaller/hooks'\n",
      "3847 INFO: Processing standard module hook 'hook-matplotlib.py' from '/home/edwardeughenetimothy/Projects_RL/MarioRL/mario/lib64/python3.10/site-packages/PyInstaller/hooks'\n",
      "4238 INFO: Processing pre-safe-import-module hook 'hook-packaging.py' from '/home/edwardeughenetimothy/Projects_RL/MarioRL/mario/lib64/python3.10/site-packages/PyInstaller/hooks/pre_safe_import_module'\n",
      "4239 INFO: SetuptoolsInfo: initializing cached setuptools info...\n",
      "4501 INFO: Processing standard module hook 'hook-packaging.py' from '/home/edwardeughenetimothy/Projects_RL/MarioRL/mario/lib64/python3.10/site-packages/PyInstaller/hooks'\n",
      "4598 INFO: Processing standard module hook 'hook-numpy.py' from '/home/edwardeughenetimothy/Projects_RL/MarioRL/mario/lib64/python3.10/site-packages/PyInstaller/hooks'\n",
      "4893 INFO: Processing standard module hook 'hook-platform.py' from '/home/edwardeughenetimothy/Projects_RL/MarioRL/mario/lib64/python3.10/site-packages/PyInstaller/hooks'\n",
      "5090 INFO: Processing standard module hook 'hook-sysconfig.py' from '/home/edwardeughenetimothy/Projects_RL/MarioRL/mario/lib64/python3.10/site-packages/PyInstaller/hooks'\n",
      "5975 INFO: Processing standard module hook 'hook-difflib.py' from '/home/edwardeughenetimothy/Projects_RL/MarioRL/mario/lib64/python3.10/site-packages/PyInstaller/hooks'\n",
      "6113 INFO: Processing standard module hook 'hook-multiprocessing.util.py' from '/home/edwardeughenetimothy/Projects_RL/MarioRL/mario/lib64/python3.10/site-packages/PyInstaller/hooks'\n",
      "6239 INFO: Processing standard module hook 'hook-xml.py' from '/home/edwardeughenetimothy/Projects_RL/MarioRL/mario/lib64/python3.10/site-packages/PyInstaller/hooks'\n",
      "6885 INFO: Processing standard module hook 'hook-psutil.py' from '/home/edwardeughenetimothy/Projects_RL/MarioRL/mario/lib64/python3.10/site-packages/_pyinstaller_hooks_contrib/stdhooks'\n",
      "7854 INFO: Processing standard module hook 'hook-charset_normalizer.py' from '/home/edwardeughenetimothy/Projects_RL/MarioRL/mario/lib64/python3.10/site-packages/_pyinstaller_hooks_contrib/stdhooks'\n",
      "7913 INFO: Processing pre-safe-import-module hook 'hook-typing_extensions.py' from '/home/edwardeughenetimothy/Projects_RL/MarioRL/mario/lib64/python3.10/site-packages/PyInstaller/hooks/pre_safe_import_module'\n",
      "8233 INFO: Processing pre-safe-import-module hook 'hook-gi.py' from '/home/edwardeughenetimothy/Projects_RL/MarioRL/mario/lib64/python3.10/site-packages/PyInstaller/hooks/pre_safe_import_module'\n",
      "8479 INFO: Processing standard module hook 'hook-matplotlib.backend_bases.py' from '/home/edwardeughenetimothy/Projects_RL/MarioRL/mario/lib64/python3.10/site-packages/PyInstaller/hooks'\n",
      "8586 INFO: Processing standard module hook 'hook-PIL.py' from '/home/edwardeughenetimothy/Projects_RL/MarioRL/mario/lib64/python3.10/site-packages/PyInstaller/hooks'\n",
      "8661 INFO: Processing standard module hook 'hook-PIL.Image.py' from '/home/edwardeughenetimothy/Projects_RL/MarioRL/mario/lib64/python3.10/site-packages/PyInstaller/hooks'\n",
      "8913 INFO: Processing standard module hook 'hook-xml.etree.cElementTree.py' from '/home/edwardeughenetimothy/Projects_RL/MarioRL/mario/lib64/python3.10/site-packages/PyInstaller/hooks'\n",
      "9075 INFO: Processing standard module hook 'hook-xml.dom.domreg.py' from '/home/edwardeughenetimothy/Projects_RL/MarioRL/mario/lib64/python3.10/site-packages/PyInstaller/hooks'\n",
      "9251 INFO: Processing standard module hook 'hook-PIL.ImageFilter.py' from '/home/edwardeughenetimothy/Projects_RL/MarioRL/mario/lib64/python3.10/site-packages/PyInstaller/hooks'\n",
      "10145 INFO: Processing standard module hook 'hook-jinja2.py' from '/home/edwardeughenetimothy/Projects_RL/MarioRL/mario/lib64/python3.10/site-packages/_pyinstaller_hooks_contrib/stdhooks'\n",
      "10593 INFO: Processing standard module hook 'hook-matplotlib.backends.py' from '/home/edwardeughenetimothy/Projects_RL/MarioRL/mario/lib64/python3.10/site-packages/PyInstaller/hooks'\n",
      "10663 INFO: Processing standard module hook 'hook-matplotlib.pyplot.py' from '/home/edwardeughenetimothy/Projects_RL/MarioRL/mario/lib64/python3.10/site-packages/PyInstaller/hooks'\n",
      "11874 INFO: Processing pre-safe-import-module hook 'hook-six.moves.py' from '/home/edwardeughenetimothy/Projects_RL/MarioRL/mario/lib64/python3.10/site-packages/PyInstaller/hooks/pre_safe_import_module'\n",
      "13824 INFO: Processing standard module hook 'hook-certifi.py' from '/home/edwardeughenetimothy/Projects_RL/MarioRL/mario/lib64/python3.10/site-packages/_pyinstaller_hooks_contrib/stdhooks'\n",
      "13902 INFO: Processing standard module hook 'hook-sklearn.py' from '/home/edwardeughenetimothy/Projects_RL/MarioRL/mario/lib64/python3.10/site-packages/_pyinstaller_hooks_contrib/stdhooks'\n",
      "14087 INFO: Processing standard module hook 'hook-sklearn.utils.py' from '/home/edwardeughenetimothy/Projects_RL/MarioRL/mario/lib64/python3.10/site-packages/_pyinstaller_hooks_contrib/stdhooks'\n",
      "14444 INFO: Processing standard module hook 'hook-scipy.py' from '/home/edwardeughenetimothy/Projects_RL/MarioRL/mario/lib64/python3.10/site-packages/PyInstaller/hooks'\n",
      "15130 INFO: Processing standard module hook 'hook-pycparser.py' from '/home/edwardeughenetimothy/Projects_RL/MarioRL/mario/lib64/python3.10/site-packages/_pyinstaller_hooks_contrib/stdhooks'\n",
      "15580 INFO: Processing standard module hook 'hook-setuptools.py' from '/home/edwardeughenetimothy/Projects_RL/MarioRL/mario/lib64/python3.10/site-packages/PyInstaller/hooks'\n",
      "15585 INFO: Processing pre-safe-import-module hook 'hook-distutils.py' from '/home/edwardeughenetimothy/Projects_RL/MarioRL/mario/lib64/python3.10/site-packages/PyInstaller/hooks/pre_safe_import_module'\n",
      "15585 INFO: Processing pre-find-module-path hook 'hook-distutils.py' from '/home/edwardeughenetimothy/Projects_RL/MarioRL/mario/lib64/python3.10/site-packages/PyInstaller/hooks/pre_find_module_path'\n",
      "15849 INFO: Processing standard module hook 'hook-distutils.py' from '/home/edwardeughenetimothy/Projects_RL/MarioRL/mario/lib64/python3.10/site-packages/PyInstaller/hooks'\n",
      "15903 INFO: Processing standard module hook 'hook-distutils.util.py' from '/home/edwardeughenetimothy/Projects_RL/MarioRL/mario/lib64/python3.10/site-packages/PyInstaller/hooks'\n",
      "16074 INFO: Processing pre-safe-import-module hook 'hook-importlib_metadata.py' from '/home/edwardeughenetimothy/Projects_RL/MarioRL/mario/lib64/python3.10/site-packages/PyInstaller/hooks/pre_safe_import_module'\n",
      "16740 INFO: Processing standard module hook 'hook-pkg_resources.py' from '/home/edwardeughenetimothy/Projects_RL/MarioRL/mario/lib64/python3.10/site-packages/PyInstaller/hooks'\n",
      "18037 INFO: Processing standard module hook 'hook-scipy.linalg.py' from '/home/edwardeughenetimothy/Projects_RL/MarioRL/mario/lib64/python3.10/site-packages/PyInstaller/hooks'\n",
      "18185 INFO: Processing standard module hook 'hook-scipy.special._ufuncs.py' from '/home/edwardeughenetimothy/Projects_RL/MarioRL/mario/lib64/python3.10/site-packages/PyInstaller/hooks'\n",
      "18292 INFO: Processing standard module hook 'hook-scipy.special._ellip_harm_2.py' from '/home/edwardeughenetimothy/Projects_RL/MarioRL/mario/lib64/python3.10/site-packages/PyInstaller/hooks'\n",
      "19721 INFO: Processing standard module hook 'hook-scipy.sparse.csgraph.py' from '/home/edwardeughenetimothy/Projects_RL/MarioRL/mario/lib64/python3.10/site-packages/PyInstaller/hooks'\n",
      "20067 INFO: Processing standard module hook 'hook-scipy.spatial.transform.rotation.py' from '/home/edwardeughenetimothy/Projects_RL/MarioRL/mario/lib64/python3.10/site-packages/PyInstaller/hooks'\n",
      "21108 INFO: Processing standard module hook 'hook-scipy.stats._stats.py' from '/home/edwardeughenetimothy/Projects_RL/MarioRL/mario/lib64/python3.10/site-packages/PyInstaller/hooks'\n",
      "22500 INFO: Processing standard module hook 'hook-pandas.py' from '/home/edwardeughenetimothy/Projects_RL/MarioRL/mario/lib64/python3.10/site-packages/PyInstaller/hooks'\n",
      "23792 INFO: Processing standard module hook 'hook-pytz.py' from '/home/edwardeughenetimothy/Projects_RL/MarioRL/mario/lib64/python3.10/site-packages/PyInstaller/hooks'\n",
      "25913 INFO: Processing standard module hook 'hook-pandas.io.formats.style.py' from '/home/edwardeughenetimothy/Projects_RL/MarioRL/mario/lib64/python3.10/site-packages/PyInstaller/hooks'\n",
      "27140 INFO: Processing standard module hook 'hook-IPython.py' from '/home/edwardeughenetimothy/Projects_RL/MarioRL/mario/lib64/python3.10/site-packages/_pyinstaller_hooks_contrib/stdhooks'\n",
      "28807 INFO: Processing standard module hook 'hook-pygments.py' from '/home/edwardeughenetimothy/Projects_RL/MarioRL/mario/lib64/python3.10/site-packages/PyInstaller/hooks'\n",
      "30586 INFO: Processing standard module hook 'hook-wcwidth.py' from '/home/edwardeughenetimothy/Projects_RL/MarioRL/mario/lib64/python3.10/site-packages/PyInstaller/hooks'\n",
      "31627 INFO: Processing standard module hook 'hook-jedi.py' from '/home/edwardeughenetimothy/Projects_RL/MarioRL/mario/lib64/python3.10/site-packages/_pyinstaller_hooks_contrib/stdhooks'\n",
      "32064 INFO: Processing standard module hook 'hook-parso.py' from '/home/edwardeughenetimothy/Projects_RL/MarioRL/mario/lib64/python3.10/site-packages/_pyinstaller_hooks_contrib/stdhooks'\n",
      "33334 INFO: Processing standard module hook 'hook-sqlite3.py' from '/home/edwardeughenetimothy/Projects_RL/MarioRL/mario/lib64/python3.10/site-packages/PyInstaller/hooks'\n",
      "33643 INFO: Processing standard module hook 'hook-nbformat.py' from '/home/edwardeughenetimothy/Projects_RL/MarioRL/mario/lib64/python3.10/site-packages/_pyinstaller_hooks_contrib/stdhooks'\n",
      "33786 INFO: Processing standard module hook 'hook-jsonschema.py' from '/home/edwardeughenetimothy/Projects_RL/MarioRL/mario/lib64/python3.10/site-packages/_pyinstaller_hooks_contrib/stdhooks'\n",
      "34830 INFO: Processing standard module hook 'hook-jsonschema_specifications.py' from '/home/edwardeughenetimothy/Projects_RL/MarioRL/mario/lib64/python3.10/site-packages/_pyinstaller_hooks_contrib/stdhooks'\n",
      "34837 INFO: Processing pre-safe-import-module hook 'hook-importlib_resources.py' from '/home/edwardeughenetimothy/Projects_RL/MarioRL/mario/lib64/python3.10/site-packages/PyInstaller/hooks/pre_safe_import_module'\n",
      "35534 INFO: Processing standard module hook 'hook-zmq.py' from '/home/edwardeughenetimothy/Projects_RL/MarioRL/mario/lib64/python3.10/site-packages/_pyinstaller_hooks_contrib/stdhooks'\n",
      "36136 INFO: Processing pre-safe-import-module hook 'hook-platformdirs.py' from '/home/edwardeughenetimothy/Projects_RL/MarioRL/mario/lib64/python3.10/site-packages/PyInstaller/hooks/pre_safe_import_module'\n",
      "36486 INFO: Processing standard module hook 'hook-platformdirs.py' from '/home/edwardeughenetimothy/Projects_RL/MarioRL/mario/lib64/python3.10/site-packages/_pyinstaller_hooks_contrib/stdhooks'\n",
      "36842 INFO: Processing standard module hook 'hook-cloudpickle.py' from '/home/edwardeughenetimothy/Projects_RL/MarioRL/mario/lib64/python3.10/site-packages/_pyinstaller_hooks_contrib/stdhooks'\n",
      "37781 INFO: Processing standard module hook 'hook-pandas.plotting.py' from '/home/edwardeughenetimothy/Projects_RL/MarioRL/mario/lib64/python3.10/site-packages/PyInstaller/hooks'\n",
      "39013 INFO: Processing standard module hook 'hook-pandas.io.clipboard.py' from '/home/edwardeughenetimothy/Projects_RL/MarioRL/mario/lib64/python3.10/site-packages/PyInstaller/hooks'\n",
      "40165 INFO: Processing standard module hook 'hook-sklearn.metrics.py' from '/home/edwardeughenetimothy/Projects_RL/MarioRL/mario/lib64/python3.10/site-packages/_pyinstaller_hooks_contrib/stdhooks'\n",
      "42857 INFO: Processing standard module hook 'hook-sklearn.metrics.cluster.py' from '/home/edwardeughenetimothy/Projects_RL/MarioRL/mario/lib64/python3.10/site-packages/_pyinstaller_hooks_contrib/stdhooks'\n",
      "43030 INFO: Processing standard module hook 'hook-sklearn.cluster.py' from '/home/edwardeughenetimothy/Projects_RL/MarioRL/mario/lib64/python3.10/site-packages/_pyinstaller_hooks_contrib/stdhooks'\n",
      "43201 INFO: Processing standard module hook 'hook-sklearn.metrics.pairwise.py' from '/home/edwardeughenetimothy/Projects_RL/MarioRL/mario/lib64/python3.10/site-packages/_pyinstaller_hooks_contrib/stdhooks'\n",
      "43428 INFO: Processing standard module hook 'hook-sklearn.neighbors.py' from '/home/edwardeughenetimothy/Projects_RL/MarioRL/mario/lib64/python3.10/site-packages/_pyinstaller_hooks_contrib/stdhooks'\n",
      "43642 INFO: Processing standard module hook 'hook-sklearn.linear_model.py' from '/home/edwardeughenetimothy/Projects_RL/MarioRL/mario/lib64/python3.10/site-packages/_pyinstaller_hooks_contrib/stdhooks'\n",
      "45184 INFO: Processing standard module hook 'hook-sklearn.tree.py' from '/home/edwardeughenetimothy/Projects_RL/MarioRL/mario/lib64/python3.10/site-packages/_pyinstaller_hooks_contrib/stdhooks'\n",
      "45646 INFO: Processing standard module hook 'hook-scipy.io.matlab.py' from '/home/edwardeughenetimothy/Projects_RL/MarioRL/mario/lib64/python3.10/site-packages/PyInstaller/hooks'\n",
      "46100 INFO: Processing module hooks (post-graph stage)...\n",
      "46463 INFO: Processing standard module hook 'hook-PIL.SpiderImagePlugin.py' from '/home/edwardeughenetimothy/Projects_RL/MarioRL/mario/lib64/python3.10/site-packages/PyInstaller/hooks'\n",
      "46495 INFO: Processing standard module hook 'hook-_tkinter.py' from '/home/edwardeughenetimothy/Projects_RL/MarioRL/mario/lib64/python3.10/site-packages/PyInstaller/hooks'\n",
      "46511 INFO: Processing standard module hook 'hook-matplotlib.backends.py' from '/home/edwardeughenetimothy/Projects_RL/MarioRL/mario/lib64/python3.10/site-packages/PyInstaller/hooks'\n",
      "46512 INFO: Matplotlib backend selection method: automatic discovery of used backends\n",
      "46889 INFO: Found configured default matplotlib backend: module://matplotlib_inline.backend_inline\n",
      "46889 INFO: Selected matplotlib backends: ['module://matplotlib_inline.backend_inline']\n",
      "49988 WARNING: Hidden import \"scipy.special._cdflib\" not found!\n",
      "50004 INFO: Processing standard module hook 'hook-setuptools._vendor.importlib_metadata.py' from '/home/edwardeughenetimothy/Projects_RL/MarioRL/mario/lib64/python3.10/site-packages/PyInstaller/hooks'\n",
      "50116 INFO: Processing standard module hook 'hook-setuptools._vendor.jaraco.text.py' from '/home/edwardeughenetimothy/Projects_RL/MarioRL/mario/lib64/python3.10/site-packages/PyInstaller/hooks'\n",
      "51005 INFO: Performing binary vs. data reclassification (3229 entries)\n",
      "51057 INFO: Looking for ctypes DLLs\n",
      "51142 WARNING: Library user32 required via ctypes not found\n",
      "51309 WARNING: Library msvcrt required via ctypes not found\n",
      "51354 INFO: Analyzing run-time hooks ...\n",
      "51391 INFO: Including run-time hook 'pyi_rth_inspect.py' from '/home/edwardeughenetimothy/Projects_RL/MarioRL/mario/lib64/python3.10/site-packages/PyInstaller/hooks/rthooks'\n",
      "51396 INFO: Including run-time hook 'pyi_rth_pkgutil.py' from '/home/edwardeughenetimothy/Projects_RL/MarioRL/mario/lib64/python3.10/site-packages/PyInstaller/hooks/rthooks'\n",
      "51399 INFO: Including run-time hook 'pyi_rth_multiprocessing.py' from '/home/edwardeughenetimothy/Projects_RL/MarioRL/mario/lib64/python3.10/site-packages/PyInstaller/hooks/rthooks'\n",
      "51402 INFO: Including run-time hook 'pyi_rth_pkgres.py' from '/home/edwardeughenetimothy/Projects_RL/MarioRL/mario/lib64/python3.10/site-packages/PyInstaller/hooks/rthooks'\n",
      "51408 INFO: Including run-time hook 'pyi_rth_traitlets.py' from '/home/edwardeughenetimothy/Projects_RL/MarioRL/mario/lib64/python3.10/site-packages/_pyinstaller_hooks_contrib/rthooks'\n",
      "51409 INFO: Including run-time hook 'pyi_rth_setuptools.py' from '/home/edwardeughenetimothy/Projects_RL/MarioRL/mario/lib64/python3.10/site-packages/PyInstaller/hooks/rthooks'\n",
      "51411 INFO: Including run-time hook 'pyi_rth_mplconfig.py' from '/home/edwardeughenetimothy/Projects_RL/MarioRL/mario/lib64/python3.10/site-packages/PyInstaller/hooks/rthooks'\n",
      "51412 INFO: Processing pre-find-module-path hook 'hook-_pyi_rth_utils.py' from '/home/edwardeughenetimothy/Projects_RL/MarioRL/mario/lib64/python3.10/site-packages/PyInstaller/hooks/pre_find_module_path'\n",
      "51414 INFO: Processing standard module hook 'hook-_pyi_rth_utils.py' from '/home/edwardeughenetimothy/Projects_RL/MarioRL/mario/lib64/python3.10/site-packages/PyInstaller/hooks'\n",
      "51417 INFO: Including run-time hook 'pyi_rth__tkinter.py' from '/home/edwardeughenetimothy/Projects_RL/MarioRL/mario/lib64/python3.10/site-packages/PyInstaller/hooks/rthooks'\n",
      "51667 INFO: Creating base_library.zip...\n",
      "51721 INFO: Looking for dynamic libraries\n",
      "56411 INFO: Warnings written to /home/edwardeughenetimothy/Projects_RL/MarioRL/build/iris_classifier/warn-iris_classifier.txt\n",
      "56680 INFO: Graph cross-reference written to /home/edwardeughenetimothy/Projects_RL/MarioRL/build/iris_classifier/xref-iris_classifier.html\n",
      "56908 INFO: checking PYZ\n",
      "56941 INFO: Building because toc changed\n",
      "56941 INFO: Building PYZ (ZlibArchive) /home/edwardeughenetimothy/Projects_RL/MarioRL/build/iris_classifier/PYZ-00.pyz\n",
      "59586 INFO: Building PYZ (ZlibArchive) /home/edwardeughenetimothy/Projects_RL/MarioRL/build/iris_classifier/PYZ-00.pyz completed successfully.\n",
      "59900 INFO: checking PKG\n",
      "59941 INFO: Building because toc changed\n",
      "59941 INFO: Building PKG (CArchive) iris_classifier.pkg\n",
      "79042 INFO: Building PKG (CArchive) iris_classifier.pkg completed successfully.\n",
      "79126 INFO: Bootloader /home/edwardeughenetimothy/Projects_RL/MarioRL/mario/lib64/python3.10/site-packages/PyInstaller/bootloader/Linux-64bit-intel/run\n",
      "79126 INFO: checking EXE\n",
      "79163 INFO: Building because toc changed\n",
      "79163 INFO: Building EXE from EXE-00.toc\n",
      "79174 INFO: Copying bootloader EXE to /home/edwardeughenetimothy/Projects_RL/MarioRL/dist/iris_classifier\n",
      "79174 INFO: Appending PKG archive to custom ELF section in EXE\n",
      "79553 INFO: Building EXE from EXE-00.toc completed successfully.\n",
      "79635 INFO: Build complete! The results are available in: /home/edwardeughenetimothy/Projects_RL/MarioRL/dist\n"
     ]
    }
   ],
   "source": [
    "!pyinstaller --onefile --windowed iris_classifier.py\n"
   ]
  },
  {
   "cell_type": "code",
   "execution_count": null,
   "id": "07ff8764-a583-4a87-9661-b473c76898e5",
   "metadata": {},
   "outputs": [],
   "source": [
    "run_button = tk.Button(root, text=\"Run Model\", command=run_model, font=(\"Arial\", 14), bg=\"blue\", fg=\"white\")\n",
    "run_button.pack(pady=20)\n",
    "\n",
    "# Run GUI loop\n",
    "root.mainloop()"
   ]
  },
  {
   "cell_type": "code",
   "execution_count": null,
   "id": "137ab997-8d58-4ce1-8df7-0e39748bce50",
   "metadata": {},
   "outputs": [],
   "source": []
  }
 ],
 "metadata": {
  "colab": {
   "provenance": []
  },
  "kernelspec": {
   "display_name": "Python 3 (ipykernel)",
   "language": "python",
   "name": "python3"
  },
  "language_info": {
   "codemirror_mode": {
    "name": "ipython",
    "version": 3
   },
   "file_extension": ".py",
   "mimetype": "text/x-python",
   "name": "python",
   "nbconvert_exporter": "python",
   "pygments_lexer": "ipython3",
   "version": "3.10.16"
  }
 },
 "nbformat": 4,
 "nbformat_minor": 5
}
