{
 "cells": [
  {
   "cell_type": "code",
   "execution_count": 5,
   "id": "dc943563",
   "metadata": {},
   "outputs": [
    {
     "name": "stdout",
     "output_type": "stream",
     "text": [
      "Defaulting to user installation because normal site-packages is not writeable\n",
      "Requirement already satisfied: pgmpy in c:\\users\\2023pecai603\\appdata\\roaming\\python\\python311\\site-packages (0.1.26)\n",
      "Requirement already satisfied: networkx in c:\\programdata\\anaconda3.11\\lib\\site-packages (from pgmpy) (2.8.4)\n",
      "Requirement already satisfied: numpy in c:\\programdata\\anaconda3.11\\lib\\site-packages (from pgmpy) (1.24.3)\n",
      "Requirement already satisfied: scipy in c:\\programdata\\anaconda3.11\\lib\\site-packages (from pgmpy) (1.10.1)\n",
      "Requirement already satisfied: scikit-learn in c:\\programdata\\anaconda3.11\\lib\\site-packages (from pgmpy) (1.2.2)\n",
      "Requirement already satisfied: pandas in c:\\programdata\\anaconda3.11\\lib\\site-packages (from pgmpy) (1.5.3)\n",
      "Requirement already satisfied: pyparsing in c:\\programdata\\anaconda3.11\\lib\\site-packages (from pgmpy) (3.0.9)\n",
      "Requirement already satisfied: torch in c:\\users\\2023pecai603\\appdata\\roaming\\python\\python311\\site-packages (from pgmpy) (2.6.0)\n",
      "Requirement already satisfied: statsmodels in c:\\programdata\\anaconda3.11\\lib\\site-packages (from pgmpy) (0.13.5)\n",
      "Requirement already satisfied: tqdm in c:\\programdata\\anaconda3.11\\lib\\site-packages (from pgmpy) (4.65.0)\n",
      "Requirement already satisfied: joblib in c:\\programdata\\anaconda3.11\\lib\\site-packages (from pgmpy) (1.2.0)\n",
      "Requirement already satisfied: opt-einsum in c:\\users\\2023pecai603\\appdata\\roaming\\python\\python311\\site-packages (from pgmpy) (3.4.0)\n",
      "Requirement already satisfied: xgboost in c:\\users\\2023pecai603\\appdata\\roaming\\python\\python311\\site-packages (from pgmpy) (2.1.4)\n",
      "Requirement already satisfied: google-generativeai in c:\\users\\2023pecai603\\appdata\\roaming\\python\\python311\\site-packages (from pgmpy) (0.8.4)\n",
      "Requirement already satisfied: google-ai-generativelanguage==0.6.15 in c:\\users\\2023pecai603\\appdata\\roaming\\python\\python311\\site-packages (from google-generativeai->pgmpy) (0.6.15)\n",
      "Requirement already satisfied: google-api-core in c:\\users\\2023pecai603\\appdata\\roaming\\python\\python311\\site-packages (from google-generativeai->pgmpy) (2.24.1)\n",
      "Requirement already satisfied: google-api-python-client in c:\\users\\2023pecai603\\appdata\\roaming\\python\\python311\\site-packages (from google-generativeai->pgmpy) (2.162.0)\n",
      "Requirement already satisfied: google-auth>=2.15.0 in c:\\users\\2023pecai603\\appdata\\roaming\\python\\python311\\site-packages (from google-generativeai->pgmpy) (2.38.0)\n",
      "Requirement already satisfied: protobuf in c:\\users\\2023pecai603\\appdata\\roaming\\python\\python311\\site-packages (from google-generativeai->pgmpy) (5.29.3)\n",
      "Requirement already satisfied: pydantic in c:\\programdata\\anaconda3.11\\lib\\site-packages (from google-generativeai->pgmpy) (2.5.3)\n",
      "Requirement already satisfied: typing-extensions in c:\\users\\2023pecai603\\appdata\\roaming\\python\\python311\\site-packages (from google-generativeai->pgmpy) (4.12.2)\n",
      "Requirement already satisfied: proto-plus<2.0.0dev,>=1.22.3 in c:\\users\\2023pecai603\\appdata\\roaming\\python\\python311\\site-packages (from google-ai-generativelanguage==0.6.15->google-generativeai->pgmpy) (1.26.0)\n",
      "Requirement already satisfied: python-dateutil>=2.8.1 in c:\\programdata\\anaconda3.11\\lib\\site-packages (from pandas->pgmpy) (2.8.2)\n",
      "Requirement already satisfied: pytz>=2020.1 in c:\\programdata\\anaconda3.11\\lib\\site-packages (from pandas->pgmpy) (2022.7)\n",
      "Requirement already satisfied: threadpoolctl>=2.0.0 in c:\\programdata\\anaconda3.11\\lib\\site-packages (from scikit-learn->pgmpy) (2.2.0)\n",
      "Requirement already satisfied: patsy>=0.5.2 in c:\\programdata\\anaconda3.11\\lib\\site-packages (from statsmodels->pgmpy) (0.5.3)\n",
      "Requirement already satisfied: packaging>=21.3 in c:\\programdata\\anaconda3.11\\lib\\site-packages (from statsmodels->pgmpy) (23.0)\n",
      "Requirement already satisfied: filelock in c:\\programdata\\anaconda3.11\\lib\\site-packages (from torch->pgmpy) (3.9.0)\n",
      "Requirement already satisfied: jinja2 in c:\\programdata\\anaconda3.11\\lib\\site-packages (from torch->pgmpy) (3.1.2)\n",
      "Requirement already satisfied: fsspec in c:\\programdata\\anaconda3.11\\lib\\site-packages (from torch->pgmpy) (2023.3.0)\n",
      "Requirement already satisfied: sympy==1.13.1 in c:\\users\\2023pecai603\\appdata\\roaming\\python\\python311\\site-packages (from torch->pgmpy) (1.13.1)\n",
      "Requirement already satisfied: mpmath<1.4,>=1.1.0 in c:\\programdata\\anaconda3.11\\lib\\site-packages (from sympy==1.13.1->torch->pgmpy) (1.2.1)\n",
      "Requirement already satisfied: colorama in c:\\programdata\\anaconda3.11\\lib\\site-packages (from tqdm->pgmpy) (0.4.6)\n",
      "Requirement already satisfied: cachetools<6.0,>=2.0.0 in c:\\users\\2023pecai603\\appdata\\roaming\\python\\python311\\site-packages (from google-auth>=2.15.0->google-generativeai->pgmpy) (5.5.2)\n",
      "Requirement already satisfied: pyasn1-modules>=0.2.1 in c:\\programdata\\anaconda3.11\\lib\\site-packages (from google-auth>=2.15.0->google-generativeai->pgmpy) (0.2.8)\n",
      "Requirement already satisfied: rsa<5,>=3.1.4 in c:\\users\\2023pecai603\\appdata\\roaming\\python\\python311\\site-packages (from google-auth>=2.15.0->google-generativeai->pgmpy) (4.9)\n",
      "Requirement already satisfied: six in c:\\programdata\\anaconda3.11\\lib\\site-packages (from patsy>=0.5.2->statsmodels->pgmpy) (1.16.0)\n",
      "Requirement already satisfied: googleapis-common-protos<2.0.dev0,>=1.56.2 in c:\\users\\2023pecai603\\appdata\\roaming\\python\\python311\\site-packages (from google-api-core->google-generativeai->pgmpy) (1.68.0)\n",
      "Requirement already satisfied: requests<3.0.0.dev0,>=2.18.0 in c:\\programdata\\anaconda3.11\\lib\\site-packages (from google-api-core->google-generativeai->pgmpy) (2.29.0)\n",
      "Requirement already satisfied: httplib2<1.dev0,>=0.19.0 in c:\\users\\2023pecai603\\appdata\\roaming\\python\\python311\\site-packages (from google-api-python-client->google-generativeai->pgmpy) (0.22.0)\n",
      "Requirement already satisfied: google-auth-httplib2<1.0.0,>=0.2.0 in c:\\users\\2023pecai603\\appdata\\roaming\\python\\python311\\site-packages (from google-api-python-client->google-generativeai->pgmpy) (0.2.0)\n",
      "Requirement already satisfied: uritemplate<5,>=3.0.1 in c:\\users\\2023pecai603\\appdata\\roaming\\python\\python311\\site-packages (from google-api-python-client->google-generativeai->pgmpy) (4.1.1)\n",
      "Requirement already satisfied: MarkupSafe>=2.0 in c:\\programdata\\anaconda3.11\\lib\\site-packages (from jinja2->torch->pgmpy) (2.1.1)\n",
      "Requirement already satisfied: annotated-types>=0.4.0 in c:\\programdata\\anaconda3.11\\lib\\site-packages (from pydantic->google-generativeai->pgmpy) (0.6.0)\n",
      "Requirement already satisfied: pydantic-core==2.14.6 in c:\\programdata\\anaconda3.11\\lib\\site-packages (from pydantic->google-generativeai->pgmpy) (2.14.6)\n",
      "Requirement already satisfied: grpcio<2.0dev,>=1.33.2 in c:\\users\\2023pecai603\\appdata\\roaming\\python\\python311\\site-packages (from google-api-core->google-generativeai->pgmpy) (1.70.0)\n",
      "Requirement already satisfied: grpcio-status<2.0.dev0,>=1.33.2 in c:\\users\\2023pecai603\\appdata\\roaming\\python\\python311\\site-packages (from google-api-core->google-generativeai->pgmpy) (1.70.0)\n",
      "Requirement already satisfied: pyasn1<0.5.0,>=0.4.6 in c:\\programdata\\anaconda3.11\\lib\\site-packages (from pyasn1-modules>=0.2.1->google-auth>=2.15.0->google-generativeai->pgmpy) (0.4.8)\n",
      "Requirement already satisfied: charset-normalizer<4,>=2 in c:\\programdata\\anaconda3.11\\lib\\site-packages (from requests<3.0.0.dev0,>=2.18.0->google-api-core->google-generativeai->pgmpy) (2.0.4)\n",
      "Requirement already satisfied: idna<4,>=2.5 in c:\\programdata\\anaconda3.11\\lib\\site-packages (from requests<3.0.0.dev0,>=2.18.0->google-api-core->google-generativeai->pgmpy) (3.4)\n",
      "Requirement already satisfied: urllib3<1.27,>=1.21.1 in c:\\programdata\\anaconda3.11\\lib\\site-packages (from requests<3.0.0.dev0,>=2.18.0->google-api-core->google-generativeai->pgmpy) (1.26.16)\n",
      "Requirement already satisfied: certifi>=2017.4.17 in c:\\programdata\\anaconda3.11\\lib\\site-packages (from requests<3.0.0.dev0,>=2.18.0->google-api-core->google-generativeai->pgmpy) (2024.7.4)\n"
     ]
    }
   ],
   "source": [
    "! pip install pgmpy "
   ]
  },
  {
   "cell_type": "code",
   "execution_count": 14,
   "id": "d75ff48e",
   "metadata": {},
   "outputs": [],
   "source": [
    "import numpy as np\n",
    "import pandas as pd\n",
    "from pgmpy.models import BayesianNetwork\n",
    "from pgmpy.estimators import MaximumLikelihoodEstimator\n",
    "from pgmpy.inference import VariableElimination"
   ]
  },
  {
   "cell_type": "code",
   "execution_count": 15,
   "id": "a3ab9b52",
   "metadata": {},
   "outputs": [],
   "source": [
    "model = BayesianNetwork([\n",
    "    ('Fever', 'Test_Result'),\n",
    "    ('Cough', 'Test_Result'),\n",
    "    ('Difficulty_Breathing', 'Test_Result'),\n",
    "    ('Contact_with_Confirmed', 'Test_Result')\n",
    "])"
   ]
  },
  {
   "cell_type": "code",
   "execution_count": 16,
   "id": "61b2adad",
   "metadata": {},
   "outputs": [],
   "source": [
    "data = pd.DataFrame({\n",
    "    'Fever': ['Yes', 'Yes', 'No', 'Yes', 'No', 'No', 'Yes', 'Yes', 'No', 'Yes', 'No', 'Yes', 'Yes'],\n",
    "    'Cough': ['Yes', 'No', 'Yes', 'Yes', 'Yes', 'No', 'No', 'No', 'No', 'Yes', 'Yes', 'Yes', 'Yes'],\n",
    "    'Difficulty_Breathing': ['Yes', 'Yes', 'No', 'No', 'Yes', 'Yes', 'Yes', 'Yes', 'Yes', 'Yes', 'Yes', 'Yes', 'Yes'],\n",
    "    'Contact_with_Confirmed': ['Yes', 'Yes', 'No', 'No', 'Yes', 'Yes', 'No', 'Yes', 'No', 'Yes', 'No', 'No', 'No'],\n",
    "    'Test_Result': ['Positive', 'Positive', 'Negative', 'Negative', 'Positive', 'Positive', 'Positive', 'Positive', 'Negative', 'Positive', 'Positive', 'Positive', 'Positive']\n",
    "})"
   ]
  },
  {
   "cell_type": "code",
   "execution_count": 17,
   "id": "ff9e6064",
   "metadata": {},
   "outputs": [],
   "source": [
    "model.fit(data, estimator=MaximumLikelihoodEstimator)\n",
    "inference = VariableElimination(model)\n",
    "evidence = {\n",
    "    'Fever': 'Yes',\n",
    "    'Cough': 'Yes',\n",
    "    'Difficulty_Breathing': 'Yes',\n",
    "    'Contact_with_Confirmed': 'Yes'\n",
    "}\n"
   ]
  },
  {
   "cell_type": "code",
   "execution_count": 18,
   "id": "6ba8479f",
   "metadata": {},
   "outputs": [
    {
     "name": "stdout",
     "output_type": "stream",
     "text": [
      "Probability distribution for Test_Result given the evidence:\n",
      "+-----------------------+--------------------+\n",
      "| Test_Result           |   phi(Test_Result) |\n",
      "+=======================+====================+\n",
      "| Test_Result(Negative) |             0.0000 |\n",
      "+-----------------------+--------------------+\n",
      "| Test_Result(Positive) |             1.0000 |\n",
      "+-----------------------+--------------------+\n"
     ]
    }
   ],
   "source": [
    "result = inference.query(variables=['Test_Result'], evidence=evidence)\n",
    "print(\"Probability distribution for Test_Result given the evidence:\")\n",
    "print(result)"
   ]
  },
  {
   "cell_type": "code",
   "execution_count": null,
   "id": "5ca80dd1",
   "metadata": {},
   "outputs": [],
   "source": []
  }
 ],
 "metadata": {
  "kernelspec": {
   "display_name": "Python 3 (ipykernel)",
   "language": "python",
   "name": "python3"
  },
  "language_info": {
   "codemirror_mode": {
    "name": "ipython",
    "version": 3
   },
   "file_extension": ".py",
   "mimetype": "text/x-python",
   "name": "python",
   "nbconvert_exporter": "python",
   "pygments_lexer": "ipython3",
   "version": "3.11.5"
  }
 },
 "nbformat": 4,
 "nbformat_minor": 5
}
