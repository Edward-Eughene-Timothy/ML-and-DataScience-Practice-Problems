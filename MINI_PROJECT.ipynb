{
  "cells": [
    {
      "cell_type": "markdown",
      "metadata": {
        "id": "view-in-github",
        "colab_type": "text"
      },
      "source": [
        "<a href=\"https://colab.research.google.com/github/Edward-Eughene-Timothy/ML-and-DataScience-Practice-Problems/blob/main/MINI_PROJECT.ipynb\" target=\"_parent\"><img src=\"https://colab.research.google.com/assets/colab-badge.svg\" alt=\"Open In Colab\"/></a>"
      ]
    },
    {
      "cell_type": "code",
      "execution_count": 39,
      "id": "8e33c38e-ce19-490c-b954-2a34edf4eae1",
      "metadata": {
        "colab": {
          "base_uri": "https://localhost:8080/"
        },
        "id": "8e33c38e-ce19-490c-b954-2a34edf4eae1",
        "outputId": "f274bda5-73b6-4683-b24a-5e86092b206f"
      },
      "outputs": [
        {
          "output_type": "stream",
          "name": "stdout",
          "text": [
            "Requirement already satisfied: pandas in /usr/local/lib/python3.11/dist-packages (2.2.2)\n",
            "Requirement already satisfied: scikit-learn in /usr/local/lib/python3.11/dist-packages (1.6.1)\n",
            "Requirement already satisfied: numpy>=1.23.2 in /usr/local/lib/python3.11/dist-packages (from pandas) (1.26.4)\n",
            "Requirement already satisfied: python-dateutil>=2.8.2 in /usr/local/lib/python3.11/dist-packages (from pandas) (2.8.2)\n",
            "Requirement already satisfied: pytz>=2020.1 in /usr/local/lib/python3.11/dist-packages (from pandas) (2025.1)\n",
            "Requirement already satisfied: tzdata>=2022.7 in /usr/local/lib/python3.11/dist-packages (from pandas) (2025.1)\n",
            "Requirement already satisfied: scipy>=1.6.0 in /usr/local/lib/python3.11/dist-packages (from scikit-learn) (1.14.1)\n",
            "Requirement already satisfied: joblib>=1.2.0 in /usr/local/lib/python3.11/dist-packages (from scikit-learn) (1.4.2)\n",
            "Requirement already satisfied: threadpoolctl>=3.1.0 in /usr/local/lib/python3.11/dist-packages (from scikit-learn) (3.5.0)\n",
            "Requirement already satisfied: six>=1.5 in /usr/local/lib/python3.11/dist-packages (from python-dateutil>=2.8.2->pandas) (1.17.0)\n"
          ]
        }
      ],
      "source": [
        "!pip install pandas scikit-learn"
      ]
    },
    {
      "cell_type": "code",
      "execution_count": 40,
      "id": "8a483af7-cb6b-4826-af1e-b2815c23b4e5",
      "metadata": {
        "colab": {
          "base_uri": "https://localhost:8080/"
        },
        "id": "8a483af7-cb6b-4826-af1e-b2815c23b4e5",
        "outputId": "5521169d-dbba-4a25-b374-f512b6aa81d6"
      },
      "outputs": [
        {
          "output_type": "stream",
          "name": "stdout",
          "text": [
            "Requirement already satisfied: matplotlib in /usr/local/lib/python3.11/dist-packages (3.10.0)\n",
            "Requirement already satisfied: contourpy>=1.0.1 in /usr/local/lib/python3.11/dist-packages (from matplotlib) (1.3.1)\n",
            "Requirement already satisfied: cycler>=0.10 in /usr/local/lib/python3.11/dist-packages (from matplotlib) (0.12.1)\n",
            "Requirement already satisfied: fonttools>=4.22.0 in /usr/local/lib/python3.11/dist-packages (from matplotlib) (4.56.0)\n",
            "Requirement already satisfied: kiwisolver>=1.3.1 in /usr/local/lib/python3.11/dist-packages (from matplotlib) (1.4.8)\n",
            "Requirement already satisfied: numpy>=1.23 in /usr/local/lib/python3.11/dist-packages (from matplotlib) (1.26.4)\n",
            "Requirement already satisfied: packaging>=20.0 in /usr/local/lib/python3.11/dist-packages (from matplotlib) (24.2)\n",
            "Requirement already satisfied: pillow>=8 in /usr/local/lib/python3.11/dist-packages (from matplotlib) (11.1.0)\n",
            "Requirement already satisfied: pyparsing>=2.3.1 in /usr/local/lib/python3.11/dist-packages (from matplotlib) (3.2.1)\n",
            "Requirement already satisfied: python-dateutil>=2.7 in /usr/local/lib/python3.11/dist-packages (from matplotlib) (2.8.2)\n",
            "Requirement already satisfied: six>=1.5 in /usr/local/lib/python3.11/dist-packages (from python-dateutil>=2.7->matplotlib) (1.17.0)\n"
          ]
        }
      ],
      "source": [
        "!pip install matplotlib"
      ]
    },
    {
      "cell_type": "code",
      "execution_count": 41,
      "id": "cde27ccf-8620-44e1-80c6-d9abbdb9d3e8",
      "metadata": {
        "id": "cde27ccf-8620-44e1-80c6-d9abbdb9d3e8"
      },
      "outputs": [],
      "source": [
        "import numpy as np\n",
        "import pandas as pd\n",
        "from sklearn.datasets import load_iris\n",
        "from sklearn.model_selection import train_test_split\n",
        "from sklearn.svm import SVC\n",
        "from sklearn.ensemble import RandomForestClassifier\n",
        "from sklearn.metrics import accuracy_score, confusion_matrix, classification_report,ConfusionMatrixDisplay\n",
        "import pandas as pd\n",
        "import matplotlib.pyplot as plt"
      ]
    },
    {
      "cell_type": "code",
      "execution_count": 42,
      "id": "cc47c7fa-e557-4455-851d-82e0bf72c723",
      "metadata": {
        "id": "cc47c7fa-e557-4455-851d-82e0bf72c723"
      },
      "outputs": [],
      "source": [
        "data=load_iris()"
      ]
    },
    {
      "cell_type": "code",
      "execution_count": 43,
      "id": "6a793a0c-97dd-475e-af30-47b401571b15",
      "metadata": {
        "id": "6a793a0c-97dd-475e-af30-47b401571b15"
      },
      "outputs": [],
      "source": [
        "df=pd.DataFrame(data.data,columns=data.feature_names)\n",
        "df[\"species\"] = data.target"
      ]
    },
    {
      "cell_type": "code",
      "execution_count": 44,
      "id": "c1443c0c-9c3a-4f2f-808a-9b3cb471fee1",
      "metadata": {
        "colab": {
          "base_uri": "https://localhost:8080/"
        },
        "id": "c1443c0c-9c3a-4f2f-808a-9b3cb471fee1",
        "outputId": "9432f4c7-7b7e-4467-c4e5-cdb0ff0419a3"
      },
      "outputs": [
        {
          "output_type": "stream",
          "name": "stdout",
          "text": [
            "   sepal length (cm)  sepal width (cm)  petal length (cm)  petal width (cm)  \\\n",
            "0                5.1               3.5                1.4               0.2   \n",
            "1                4.9               3.0                1.4               0.2   \n",
            "2                4.7               3.2                1.3               0.2   \n",
            "3                4.6               3.1                1.5               0.2   \n",
            "4                5.0               3.6                1.4               0.2   \n",
            "\n",
            "   species  \n",
            "0        0  \n",
            "1        0  \n",
            "2        0  \n",
            "3        0  \n",
            "4        0  \n"
          ]
        }
      ],
      "source": [
        "print(df.head(5))\n",
        "x=df[data.feature_names]\n",
        "y=df[\"species\"]"
      ]
    },
    {
      "cell_type": "code",
      "execution_count": 45,
      "id": "9f732149-aafd-4de9-9f8a-0a52e2ae2e62",
      "metadata": {
        "colab": {
          "base_uri": "https://localhost:8080/",
          "height": 210
        },
        "id": "9f732149-aafd-4de9-9f8a-0a52e2ae2e62",
        "outputId": "a39a8b07-5746-4be6-8bad-94b0fa204b98"
      },
      "outputs": [
        {
          "output_type": "execute_result",
          "data": {
            "text/plain": [
              "species\n",
              "0    0.333333\n",
              "1    0.333333\n",
              "2    0.333333\n",
              "Name: count, dtype: float64"
            ],
            "text/html": [
              "<div>\n",
              "<style scoped>\n",
              "    .dataframe tbody tr th:only-of-type {\n",
              "        vertical-align: middle;\n",
              "    }\n",
              "\n",
              "    .dataframe tbody tr th {\n",
              "        vertical-align: top;\n",
              "    }\n",
              "\n",
              "    .dataframe thead th {\n",
              "        text-align: right;\n",
              "    }\n",
              "</style>\n",
              "<table border=\"1\" class=\"dataframe\">\n",
              "  <thead>\n",
              "    <tr style=\"text-align: right;\">\n",
              "      <th></th>\n",
              "      <th>count</th>\n",
              "    </tr>\n",
              "    <tr>\n",
              "      <th>species</th>\n",
              "      <th></th>\n",
              "    </tr>\n",
              "  </thead>\n",
              "  <tbody>\n",
              "    <tr>\n",
              "      <th>0</th>\n",
              "      <td>0.333333</td>\n",
              "    </tr>\n",
              "    <tr>\n",
              "      <th>1</th>\n",
              "      <td>0.333333</td>\n",
              "    </tr>\n",
              "    <tr>\n",
              "      <th>2</th>\n",
              "      <td>0.333333</td>\n",
              "    </tr>\n",
              "  </tbody>\n",
              "</table>\n",
              "</div><br><label><b>dtype:</b> float64</label>"
            ]
          },
          "metadata": {},
          "execution_count": 45
        }
      ],
      "source": [
        "df[\"species\"].value_counts()/float(len(df))"
      ]
    },
    {
      "cell_type": "code",
      "execution_count": 46,
      "id": "5997c37e-ba1d-4452-bc8e-c3fc4c7f1aaa",
      "metadata": {
        "id": "5997c37e-ba1d-4452-bc8e-c3fc4c7f1aaa"
      },
      "outputs": [],
      "source": [
        "train_x,val_x,train_y,val_y=train_test_split(x,y,test_size=0.3,random_state=2)"
      ]
    },
    {
      "cell_type": "code",
      "execution_count": 47,
      "id": "73324407-ad4b-4e8a-9921-0b553cb85a4b",
      "metadata": {
        "id": "73324407-ad4b-4e8a-9921-0b553cb85a4b"
      },
      "outputs": [],
      "source": [
        "model=RandomForestClassifier(n_estimators=100,random_state=2)"
      ]
    },
    {
      "cell_type": "code",
      "execution_count": 48,
      "id": "a93307e4-8690-4e0c-9d87-43e920f909b1",
      "metadata": {
        "id": "a93307e4-8690-4e0c-9d87-43e920f909b1"
      },
      "outputs": [],
      "source": [
        "model.fit(train_x,train_y)\n",
        "prediction = model.predict(val_x)"
      ]
    },
    {
      "cell_type": "code",
      "execution_count": 56,
      "id": "4d2b0396-6e64-4874-9f2f-fdc946418c2b",
      "metadata": {
        "colab": {
          "base_uri": "https://localhost:8080/"
        },
        "id": "4d2b0396-6e64-4874-9f2f-fdc946418c2b",
        "outputId": "17eb34cd-63b5-4ad2-fa4a-cea2f99228e7"
      },
      "outputs": [
        {
          "output_type": "stream",
          "name": "stdout",
          "text": [
            "\n",
            "\n",
            "Accuracy: 97.78%\n",
            "\n",
            "\n",
            "Confusion Matrix :\n",
            "[[17  0  0]\n",
            " [ 0 14  0]\n",
            " [ 0  1 13]]\n",
            "\n",
            "\n",
            "classification_report\n",
            "\n",
            "               precision    recall  f1-score   support\n",
            "\n",
            "           0       1.00      1.00      1.00        17\n",
            "           1       1.00      0.93      0.97        15\n",
            "           2       0.93      1.00      0.96        13\n",
            "\n",
            "    accuracy                           0.98        45\n",
            "   macro avg       0.98      0.98      0.98        45\n",
            "weighted avg       0.98      0.98      0.98        45\n",
            "\n"
          ]
        }
      ],
      "source": [
        "num=accuracy_score(prediction,val_y)*100\n",
        "rounded_num = round(num, 2)\n",
        "print(f\"\\n\\nAccuracy: {rounded_num}%\")\n",
        "print(f\"\\n\\nConfusion Matrix :\\n{confusion_matrix(prediction,val_y)}\")\n",
        "cm=confusion_matrix(prediction,val_y)\n",
        "print(\"\\n\\nclassification_report\")\n",
        "print(\"\\n\",classification_report(val_y,prediction))"
      ]
    },
    {
      "cell_type": "code",
      "execution_count": 50,
      "id": "dcc61bea-2fc3-40f6-86e2-db2e804fee14",
      "metadata": {
        "colab": {
          "base_uri": "https://localhost:8080/",
          "height": 449
        },
        "id": "dcc61bea-2fc3-40f6-86e2-db2e804fee14",
        "outputId": "18b61bb5-c260-421c-b730-af4e1fc6c4b1"
      },
      "outputs": [
        {
          "output_type": "display_data",
          "data": {
            "text/plain": [
              "<Figure size 640x480 with 2 Axes>"
            ],
            "image/png": "[encoded data removed]"
          },
          "metadata": {}
        }
      ],
      "source": [
        "disp = ConfusionMatrixDisplay(confusion_matrix=cm, display_labels=data.target_names)\n",
        "disp.plot(cmap='Blues')\n",
        "plt.show()"
      ]
    },
    {
      "cell_type": "code",
      "execution_count": 51,
      "id": "c3b1ac37-9b4e-4f47-84eb-2533fb7b5720",
      "metadata": {
        "colab": {
          "base_uri": "https://localhost:8080/",
          "height": 543
        },
        "id": "c3b1ac37-9b4e-4f47-84eb-2533fb7b5720",
        "outputId": "e445d7a6-eef7-4a45-dce0-f2e1307606df"
      },
      "outputs": [
        {
          "output_type": "display_data",
          "data": {
            "text/plain": [
              "<Figure size 1000x600 with 1 Axes>"
            ],
            "image/png": "[encoded data removed]"
          },
          "metadata": {}
        }
      ],
      "source": [
        "plt.figure(figsize=(10, 6))\n",
        "plt.barh(data.feature_names, model.feature_importances_)\n",
        "plt.xlabel('Features')\n",
        "plt.ylabel('Importance')\n",
        "plt.title('Feature Importance in Random Forest Model')\n",
        "plt.show()"
      ]
    },
    {
      "cell_type": "code",
      "source": [],
      "metadata": {
        "id": "_3pzUVCOqj1L"
      },
      "id": "_3pzUVCOqj1L",
      "execution_count": 51,
      "outputs": []
    }
  ],
  "metadata": {
    "kernelspec": {
      "display_name": "Python 3 (ipykernel)",
      "language": "python",
      "name": "python3"
    },
    "language_info": {
      "codemirror_mode": {
        "name": "ipython",
        "version": 3
      },
      "file_extension": ".py",
      "mimetype": "text/x-python",
      "name": "python",
      "nbconvert_exporter": "python",
      "pygments_lexer": "ipython3",
      "version": "3.10.16"
    },
    "colab": {
      "provenance": [],
      "include_colab_link": true
    }
  },
  "nbformat": 4,
  "nbformat_minor": 5
}