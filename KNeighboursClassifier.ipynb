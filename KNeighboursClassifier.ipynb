{
 "cells": [
  {
   "cell_type": "code",
   "execution_count": 31,
   "id": "94b845d9-d92a-4388-acd4-dfe7ce901d69",
   "metadata": {},
   "outputs": [],
   "source": [
    "import numpy\n",
    "import pandas as pd\n",
    "from sklearn.model_selection import train_test_split\n",
    "from sklearn.neighbors import KNeighborsClassifier\n",
    "from sklearn.metrics import accuracy_score,confusion_matrix,classification_report"
   ]
  },
  {
   "cell_type": "code",
   "execution_count": 33,
   "id": "434a6269-0b07-421a-a823-860d340182c5",
   "metadata": {},
   "outputs": [],
   "source": [
    "data=data = [\n",
    "    [5.1, 3.5, 1.4, 0.2, \"Setosa\"], [4.9, 3.0, 1.4, 0.2, \"Setosa\"], [4.7, 3.2, 1.3, 0.2, \"Setosa\"],\n",
    "    [4.6, 3.1, 1.5, 0.2, \"Setosa\"], [5.0, 3.6, 1.4, 0.2, \"Setosa\"], [5.4, 3.9, 1.7, 0.4, \"Setosa\"],\n",
    "    [4.6, 3.4, 1.4, 0.3, \"Setosa\"], [5.0, 3.4, 1.5, 0.2, \"Setosa\"], [5.1, 3.5, 1.4, 0.3, \"Setosa\"],\n",
    "    [7.0, 3.2, 4.7, 1.4, \"Versicolor\"], [6.4, 3.2, 4.5, 1.5, \"Versicolor\"], [6.9, 3.1, 4.9, 1.5, \"Versicolor\"],\n",
    "    [5.5, 2.3, 4.0, 1.3, \"Versicolor\"], [6.5, 2.8, 4.6, 1.5, \"Versicolor\"], [5.7, 2.8, 4.5, 1.3, \"Versicolor\"],\n",
    "    [6.3, 3.3, 6.0, 2.5, \"Virginica\"], [5.8, 2.7, 5.1, 1.9, \"Virginica\"], [7.1, 3.0, 5.9, 2.1, \"Virginica\"],\n",
    "    [6.3, 2.9, 5.6, 1.8, \"Virginica\"]\n",
    "]"
   ]
  },
  {
   "cell_type": "code",
   "execution_count": 35,
   "id": "694d08fc-66e4-4d0e-9adf-765de7798cbe",
   "metadata": {},
   "outputs": [],
   "source": [
    "df=pd.DataFrame(data,columns=[\"Sepal Length\", \"Sepal Width\", \"Petal Length\", \"Petal Width\", \"Species\"])\n",
    "x=df.drop(columns=[\"Species\"])\n",
    "y=df[\"Species\"]\n",
    "x_train,x_test,y_train, y_test = train_test_split(x, y, test_size=0.2, random_state=42, stratify=y)"
   ]
  },
  {
   "cell_type": "code",
   "execution_count": 41,
   "id": "3dae2311-8b51-4da5-987c-146d2d6fceb8",
   "metadata": {},
   "outputs": [
    {
     "ename": "NameError",
     "evalue": "name 'KNeighborsClassifiers' is not defined",
     "output_type": "error",
     "traceback": [
      "\u001b[1;31m---------------------------------------------------------------------------\u001b[0m",
      "\u001b[1;31mNameError\u001b[0m                                 Traceback (most recent call last)",
      "Cell \u001b[1;32mIn[41], line 1\u001b[0m\n\u001b[1;32m----> 1\u001b[0m knn\u001b[38;5;241m=\u001b[39mKNeighborsClassifiers(n_neighbors\u001b[38;5;241m=\u001b[39m\u001b[38;5;241m3\u001b[39m)\n\u001b[0;32m      2\u001b[0m knn\u001b[38;5;241m.\u001b[39mfit(x_train,y_train)\n\u001b[0;32m      3\u001b[0m y_pred\u001b[38;5;241m=\u001b[39mknn\u001b[38;5;241m.\u001b[39mpredict(x_test)\n",
      "\u001b[1;31mNameError\u001b[0m: name 'KNeighborsClassifiers' is not defined"
     ]
    }
   ],
   "source": [
    "knn=KNeighborsClassifiers(n_neighbors=3)\n",
    "knn.fit(x_train,y_train)\n",
    "y_pred=knn.predict(x_test)"
   ]
  },
  {
   "cell_type": "code",
   "execution_count": null,
   "id": "6ccc4e48-5d5e-4eac-a969-a0282b99ac9a",
   "metadata": {},
   "outputs": [],
   "source": []
  }
 ],
 "metadata": {
  "kernelspec": {
   "display_name": "Python [conda env:base] *",
   "language": "python",
   "name": "conda-base-py"
  },
  "language_info": {
   "codemirror_mode": {
    "name": "ipython",
    "version": 3
   },
   "file_extension": ".py",
   "mimetype": "text/x-python",
   "name": "python",
   "nbconvert_exporter": "python",
   "pygments_lexer": "ipython3",
   "version": "3.12.7"
  }
 },
 "nbformat": 4,
 "nbformat_minor": 5
}
