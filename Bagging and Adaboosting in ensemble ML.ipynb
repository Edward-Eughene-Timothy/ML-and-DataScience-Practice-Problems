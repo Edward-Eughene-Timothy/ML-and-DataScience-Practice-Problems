{
 "cells": [
  {
   "cell_type": "code",
   "execution_count": 31,
   "id": "a3152355",
   "metadata": {},
   "outputs": [],
   "source": [
    "import numpy as np\n",
    "import pandas as pd\n",
    "from sklearn.ensemble import BaggingClassifier,AdaBoostClassifier\n",
    "from sklearn.model_selection import train_test_split\n",
    "from sklearn.metrics import accuracy_score\n",
    "from sklearn.tree import DecisionTreeClassifier"
   ]
  },
  {
   "cell_type": "code",
   "execution_count": 32,
   "id": "320e9135",
   "metadata": {},
   "outputs": [],
   "source": [
    "data={\n",
    "    'feature1':[1.5,2.0,2.5,3.0,3.5,4.0,4.5,5.0,5.5],\n",
    "    'feature2':[2.0,1.8,2.5,3.0,1.5,4.0,3.5,5.0,1.0],\n",
    "    'Target':[0,1,0,1,1,1,1,0,0]\n",
    "}"
   ]
  },
  {
   "cell_type": "code",
   "execution_count": 33,
   "id": "8805fd5e",
   "metadata": {},
   "outputs": [],
   "source": [
    "df=pd.DataFrame(data)\n",
    "X= df[['feature1','feature2']]\n",
    "Y=df['Target']\n",
    "X_train,X_test,Y_train,Y_test=train_test_split(X,Y,test_size=0.2,random_state=42)"
   ]
  },
  {
   "cell_type": "code",
   "execution_count": 40,
   "id": "a4f70da1",
   "metadata": {},
   "outputs": [],
   "source": [
    "#Using bagging\n",
    "bagging_model=BaggingClassifier(DecisionTreeClassifier(),n_estimators=10,random_state=42)\n",
    "bagging_model.fit(X_train,Y_train)\n",
    "y_pred_bagging=bagging_model.predict(X_test)\n",
    "\n",
    "\n",
    "#Using Adaboost\n",
    "adaboost_model=AdaBoostClassifier(DecisionTreeClassifier(),n_estimators=10,random_state=42)\n",
    "adaboost_model.fit(X_train,Y_train)\n",
    "y_pred_adaboost=adaboost_model.predict(X_test)"
   ]
  },
  {
   "cell_type": "code",
   "execution_count": 42,
   "id": "7d123b7e",
   "metadata": {},
   "outputs": [],
   "source": [
    "result_bagging=pd.DataFrame({\n",
    "    'feature1':X_test['feature1'],\n",
    "    'feature2':X_test['feature2'],\n",
    "    'TrueTarget':Y_test,\n",
    "    'predicted_target(AdaBoost)':y_pred_bagging\n",
    "\n",
    "})"
   ]
  },
  {
   "cell_type": "code",
   "execution_count": 43,
   "id": "d3118c21",
   "metadata": {},
   "outputs": [],
   "source": [
    "result_adaboost=pd.DataFrame({\n",
    "    'feature1':X_test['feature1'],\n",
    "    'feature2':X_test['feature2'],\n",
    "    'TrueTarget':Y_test,\n",
    "    'predicted_target(AdaBoost)':y_pred_adaboost\n",
    "\n",
    "})"
   ]
  },
  {
   "cell_type": "code",
   "execution_count": 45,
   "id": "38a8d00f",
   "metadata": {},
   "outputs": [
    {
     "name": "stdout",
     "output_type": "stream",
     "text": [
      "Using BaggingClassifier with DecisonTree on the Dataset\n",
      "   feature1  feature2  TrueTarget  predicted_target(AdaBoost)\n",
      "7       5.0       5.0           0                           1\n",
      "1       2.0       1.8           1                           0\n"
     ]
    }
   ],
   "source": [
    "print(\"Using BaggingClassifier with DecisonTree on the Dataset\")\n",
    "print(result_bagging)"
   ]
  },
  {
   "cell_type": "code",
   "execution_count": 46,
   "id": "d42677da",
   "metadata": {},
   "outputs": [
    {
     "name": "stdout",
     "output_type": "stream",
     "text": [
      "Using AdaBoostClassifier with DecisonTree on the Dataset\n",
      "   feature1  feature2  TrueTarget  predicted_target(AdaBoost)\n",
      "7       5.0       5.0           0                           1\n",
      "1       2.0       1.8           1                           0\n"
     ]
    }
   ],
   "source": [
    "print(\"Using AdaBoostClassifier with DecisonTree on the Dataset\")\n",
    "print(result_adaboost)"
   ]
  },
  {
   "cell_type": "code",
   "execution_count": null,
   "id": "8a27b9a6",
   "metadata": {},
   "outputs": [],
   "source": []
  }
 ],
 "metadata": {
  "kernelspec": {
   "display_name": "Python 3 (ipykernel)",
   "language": "python",
   "name": "python3"
  },
  "language_info": {
   "codemirror_mode": {
    "name": "ipython",
    "version": 3
   },
   "file_extension": ".py",
   "mimetype": "text/x-python",
   "name": "python",
   "nbconvert_exporter": "python",
   "pygments_lexer": "ipython3",
   "version": "3.11.5"
  }
 },
 "nbformat": 4,
 "nbformat_minor": 5
}
